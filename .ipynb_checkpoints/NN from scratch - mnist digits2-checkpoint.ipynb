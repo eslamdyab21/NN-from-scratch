{
 "cells": [
  {
   "cell_type": "code",
   "execution_count": 1,
   "id": "2ca60b6f",
   "metadata": {},
   "outputs": [],
   "source": [
    "import matplotlib.pyplot as plt\n",
    "import pandas as pd\n",
    "import numpy as np \n",
    "from NN import Layer_Dense, Train_Model"
   ]
  },
  {
   "cell_type": "code",
   "execution_count": 3,
   "id": "09d1e2c2",
   "metadata": {},
   "outputs": [],
   "source": [
    "import tensorflow as tf\n",
    "tf.get_logger().setLevel('INFO')\n",
    "mnist = tf.keras.datasets.mnist\n",
    "(x_train, y_train),(x_test, y_test) = mnist.load_data()"
   ]
  },
  {
   "cell_type": "code",
   "execution_count": 4,
   "id": "4bfd4881",
   "metadata": {},
   "outputs": [
    {
     "data": {
      "text/plain": [
       "(60000, 28, 28)"
      ]
     },
     "execution_count": 4,
     "metadata": {},
     "output_type": "execute_result"
    }
   ],
   "source": [
    "x_train.shape"
   ]
  },
  {
   "cell_type": "code",
   "execution_count": 5,
   "id": "4cf56e10",
   "metadata": {},
   "outputs": [
    {
     "data": {
      "text/plain": [
       "(60000,)"
      ]
     },
     "execution_count": 5,
     "metadata": {},
     "output_type": "execute_result"
    }
   ],
   "source": [
    "y_train.shape"
   ]
  },
  {
   "cell_type": "code",
   "execution_count": 6,
   "id": "16932760",
   "metadata": {},
   "outputs": [
    {
     "data": {
      "text/plain": [
       "(28, 28)"
      ]
     },
     "execution_count": 6,
     "metadata": {},
     "output_type": "execute_result"
    }
   ],
   "source": [
    " x_train[0].shape"
   ]
  },
  {
   "cell_type": "code",
   "execution_count": 7,
   "id": "a6c2630f",
   "metadata": {},
   "outputs": [
    {
     "data": {
      "image/png": "[encoded data removed]",
      "text/plain": [
       "<Figure size 640x480 with 1 Axes>"
      ]
     },
     "metadata": {},
     "output_type": "display_data"
    }
   ],
   "source": [
    "plt.imshow(x_train[0]);"
   ]
  },
  {
   "cell_type": "code",
   "execution_count": 8,
   "id": "b1e0b5d6",
   "metadata": {},
   "outputs": [
    {
     "data": {
      "text/plain": [
       "(784,)"
      ]
     },
     "execution_count": 8,
     "metadata": {},
     "output_type": "execute_result"
    }
   ],
   "source": [
    "x_train[0].flatten().shape"
   ]
  },
  {
   "cell_type": "code",
   "execution_count": 9,
   "id": "006d7d92",
   "metadata": {},
   "outputs": [
    {
     "data": {
      "text/plain": [
       "(784, 60000)"
      ]
     },
     "execution_count": 9,
     "metadata": {},
     "output_type": "execute_result"
    }
   ],
   "source": [
    "X_train = []\n",
    "for image in x_train:\n",
    "    X_train.append(image.flatten())\n",
    "X_train = np.array(X_train).T\n",
    "X_train.shape"
   ]
  },
  {
   "cell_type": "code",
   "execution_count": 10,
   "id": "98e89156",
   "metadata": {},
   "outputs": [
    {
     "data": {
      "text/plain": [
       "(784, 10000)"
      ]
     },
     "execution_count": 10,
     "metadata": {},
     "output_type": "execute_result"
    }
   ],
   "source": [
    "X_test = []\n",
    "for image in x_test:\n",
    "    X_test.append(image.flatten())\n",
    "X_test = np.array(X_test).T\n",
    "X_test.shape"
   ]
  },
  {
   "cell_type": "code",
   "execution_count": 11,
   "id": "04ada7c1",
   "metadata": {},
   "outputs": [
    {
     "data": {
      "text/plain": [
       "(784, 60000)"
      ]
     },
     "execution_count": 11,
     "metadata": {},
     "output_type": "execute_result"
    }
   ],
   "source": [
    "X_train = X_train / 255.\n",
    "X_test = X_test / 255.\n",
    "X_train.shape"
   ]
  },
  {
   "cell_type": "code",
   "execution_count": 12,
   "id": "62a7ed9a",
   "metadata": {},
   "outputs": [
    {
     "data": {
      "text/plain": [
       "(60000,)"
      ]
     },
     "execution_count": 12,
     "metadata": {},
     "output_type": "execute_result"
    }
   ],
   "source": [
    "y_train.shape"
   ]
  },
  {
   "cell_type": "code",
   "execution_count": 13,
   "id": "67c368cd",
   "metadata": {},
   "outputs": [
    {
     "name": "stdout",
     "output_type": "stream",
     "text": [
      "epoch:  0\n",
      "[9 7 7 ... 7 5 5] [5 0 4 ... 5 6 8]\n",
      "acc 0.0991\n",
      "loss 0.09000786599459483\n",
      "----------------------------------------------\n",
      "epoch:  10\n",
      "[9 0 7 ... 7 5 0] [5 0 4 ... 5 6 8]\n",
      "acc 0.14028333333333334\n",
      "loss 0.08948527979700999\n",
      "----------------------------------------------\n",
      "epoch:  20\n",
      "[0 0 0 ... 7 2 0] [5 0 4 ... 5 6 8]\n",
      "acc 0.20471666666666666\n",
      "loss 0.08876582142072932\n",
      "----------------------------------------------\n",
      "epoch:  30\n",
      "[0 0 0 ... 7 2 0] [5 0 4 ... 5 6 8]\n",
      "acc 0.25245\n",
      "loss 0.08726180055929969\n",
      "----------------------------------------------\n",
      "epoch:  40\n",
      "[0 0 0 ... 7 2 0] [5 0 4 ... 5 6 8]\n",
      "acc 0.32666666666666666\n",
      "loss 0.08359435766599899\n",
      "----------------------------------------------\n",
      "epoch:  50\n",
      "[3 0 0 ... 9 2 0] [5 0 4 ... 5 6 8]\n",
      "acc 0.47226666666666667\n",
      "loss 0.07584522640876518\n",
      "----------------------------------------------\n",
      "epoch:  60\n",
      "[3 0 0 ... 9 2 0] [5 0 4 ... 5 6 8]\n",
      "acc 0.5843166666666667\n",
      "loss 0.0638340710125004\n",
      "----------------------------------------------\n",
      "epoch:  70\n",
      "[3 0 4 ... 9 2 8] [5 0 4 ... 5 6 8]\n",
      "acc 0.6641666666666667\n",
      "loss 0.05320677575703992\n",
      "----------------------------------------------\n",
      "epoch:  80\n",
      "[3 0 4 ... 9 6 8] [5 0 4 ... 5 6 8]\n",
      "acc 0.7172333333333333\n",
      "loss 0.0455044397440052\n",
      "----------------------------------------------\n",
      "epoch:  90\n",
      "[3 0 4 ... 5 6 8] [5 0 4 ... 5 6 8]\n",
      "acc 0.751\n",
      "loss 0.039745042002104235\n",
      "----------------------------------------------\n",
      "epoch:  100\n",
      "[3 0 4 ... 5 6 8] [5 0 4 ... 5 6 8]\n",
      "acc 0.7762\n",
      "loss 0.03542545670215364\n",
      "----------------------------------------------\n",
      "epoch:  110\n",
      "[3 0 4 ... 5 6 8] [5 0 4 ... 5 6 8]\n",
      "acc 0.79545\n",
      "loss 0.0321273218236144\n",
      "----------------------------------------------\n",
      "epoch:  120\n",
      "[3 0 4 ... 5 6 8] [5 0 4 ... 5 6 8]\n",
      "acc 0.81075\n",
      "loss 0.02954590502677916\n",
      "----------------------------------------------\n",
      "epoch:  130\n",
      "[3 0 4 ... 5 6 5] [5 0 4 ... 5 6 8]\n",
      "acc 0.8233166666666667\n",
      "loss 0.027500350715153266\n",
      "----------------------------------------------\n",
      "epoch:  140\n",
      "[3 0 4 ... 5 6 5] [5 0 4 ... 5 6 8]\n",
      "acc 0.8335333333333333\n",
      "loss 0.025848194247337135\n",
      "----------------------------------------------\n",
      "epoch:  150\n",
      "[3 0 4 ... 5 6 5] [5 0 4 ... 5 6 8]\n",
      "acc 0.8381333333333333\n",
      "loss 0.024931226278168527\n",
      "----------------------------------------------\n",
      "epoch:  160\n",
      "[3 0 4 ... 5 6 5] [5 0 4 ... 5 6 8]\n",
      "acc 0.8095166666666667\n",
      "loss 0.027598645086671106\n",
      "----------------------------------------------\n",
      "epoch:  170\n",
      "[3 0 4 ... 5 6 5] [5 0 4 ... 5 6 8]\n",
      "acc 0.8434166666666667\n",
      "loss 0.023630617417250883\n",
      "----------------------------------------------\n",
      "epoch:  180\n",
      "[3 0 4 ... 5 6 5] [5 0 4 ... 5 6 8]\n",
      "acc 0.8577666666666667\n",
      "loss 0.021793873469513544\n",
      "----------------------------------------------\n",
      "epoch:  190\n",
      "[3 0 4 ... 5 6 5] [5 0 4 ... 5 6 8]\n",
      "acc 0.8645\n",
      "loss 0.02084276099825305\n",
      "----------------------------------------------\n",
      "epoch:  200\n",
      "[3 0 4 ... 5 6 5] [5 0 4 ... 5 6 8]\n",
      "acc 0.8684\n",
      "loss 0.020138141606824745\n",
      "----------------------------------------------\n"
     ]
    }
   ],
   "source": [
    "model = [Layer_Dense(10,784,'ReLU'), Layer_Dense(128,10,'ReLU'), Layer_Dense(10, 128,'Softmax')]\n",
    "\n",
    "train = Train_Model(model,X_train, y_train, epochs=201, learning_rate=0.1)\n",
    "train.Train()"
   ]
  },
  {
   "cell_type": "code",
   "execution_count": 14,
   "id": "7b554e70",
   "metadata": {},
   "outputs": [
    {
     "data": {
      "text/plain": [
       "(784,)"
      ]
     },
     "execution_count": 14,
     "metadata": {},
     "output_type": "execute_result"
    }
   ],
   "source": [
    "X_test[0:,1].shape"
   ]
  },
  {
   "cell_type": "code",
   "execution_count": 15,
   "id": "3d84efd9",
   "metadata": {},
   "outputs": [
    {
     "name": "stdout",
     "output_type": "stream",
     "text": [
      "Prediction:  [[5.09745746e-05]\n",
      " [9.11781169e-01]\n",
      " [4.41456491e-02]\n",
      " [5.87316373e-03]\n",
      " [1.17808546e-03]\n",
      " [6.27804195e-03]\n",
      " [8.92332002e-03]\n",
      " [6.09217320e-03]\n",
      " [1.28665694e-02]\n",
      " [2.81085345e-03]]\n"
     ]
    },
    {
     "data": {
      "image/png": "[encoded data removed]",
      "text/plain": [
       "<Figure size 640x480 with 1 Axes>"
      ]
     },
     "metadata": {},
     "output_type": "display_data"
    }
   ],
   "source": [
    "example = X_test[0:,2].reshape(784,1)\n",
    "train.predict_probability(example)"
   ]
  },
  {
   "cell_type": "code",
   "execution_count": 16,
   "id": "00ee24bc",
   "metadata": {},
   "outputs": [
    {
     "name": "stdout",
     "output_type": "stream",
     "text": [
      "Prediction:  [1]\n"
     ]
    },
    {
     "data": {
      "image/png": "[encoded data removed]",
      "text/plain": [
       "<Figure size 640x480 with 1 Axes>"
      ]
     },
     "metadata": {},
     "output_type": "display_data"
    }
   ],
   "source": [
    "train.predict_label(example)"
   ]
  },
  {
   "cell_type": "code",
   "execution_count": 17,
   "id": "85381cf0",
   "metadata": {},
   "outputs": [],
   "source": [
    "test_predictions = train.make_predictions(X_test)"
   ]
  },
  {
   "cell_type": "code",
   "execution_count": 18,
   "id": "c790c904",
   "metadata": {},
   "outputs": [
    {
     "name": "stdout",
     "output_type": "stream",
     "text": [
      "[7 2 1 ... 4 8 6] [7 2 1 ... 4 5 6]\n"
     ]
    },
    {
     "data": {
      "text/plain": [
       "0.8761"
      ]
     },
     "execution_count": 18,
     "metadata": {},
     "output_type": "execute_result"
    }
   ],
   "source": [
    "Y_test = y_test\n",
    "train.get_accuracy(test_predictions, Y_test)"
   ]
  },
  {
   "cell_type": "code",
   "execution_count": null,
   "id": "9610f762",
   "metadata": {},
   "outputs": [],
   "source": []
  }
 ],
 "metadata": {
  "kernelspec": {
   "display_name": "Python 3 (ipykernel)",
   "language": "python",
   "name": "python3"
  },
  "language_info": {
   "codemirror_mode": {
    "name": "ipython",
    "version": 3
   },
   "file_extension": ".py",
   "mimetype": "text/x-python",
   "name": "python",
   "nbconvert_exporter": "python",
   "pygments_lexer": "ipython3",
   "version": "3.8.10"
  }
 },
 "nbformat": 4,
 "nbformat_minor": 5
}
