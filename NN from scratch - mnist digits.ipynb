{
 "cells": [
  {
   "cell_type": "code",
   "execution_count": 1,
   "id": "9193c166",
   "metadata": {},
   "outputs": [],
   "source": [
    "from matplotlib import pyplot as plt\n",
    "import pandas as pd\n",
    "import numpy as np \n",
    "from NN import Layer_Dense, Train_Model"
   ]
  },
  {
   "cell_type": "code",
   "execution_count": 2,
   "id": "cca8c999",
   "metadata": {},
   "outputs": [
    {
     "data": {
      "text/plain": [
       "array([[1, 0, 0, ..., 0, 0, 0],\n",
       "       [0, 0, 0, ..., 0, 0, 0],\n",
       "       [1, 0, 0, ..., 0, 0, 0],\n",
       "       ...,\n",
       "       [7, 0, 0, ..., 0, 0, 0],\n",
       "       [6, 0, 0, ..., 0, 0, 0],\n",
       "       [9, 0, 0, ..., 0, 0, 0]])"
      ]
     },
     "execution_count": 2,
     "metadata": {},
     "output_type": "execute_result"
    }
   ],
   "source": [
    "# eash row is an image\n",
    "# 42000 images each having 784 pixels (featres)\n",
    "# first column is the number vale, the rest 784 is the image pixels\n",
    "# (42000, 785)\n",
    "data = pd.read_csv('train.csv')\n",
    "data = np.array(data)\n",
    "data"
   ]
  },
  {
   "cell_type": "code",
   "execution_count": 3,
   "id": "80937d71",
   "metadata": {},
   "outputs": [],
   "source": [
    "np.random.shuffle(data) # shuffle before splitting into test and training sets\n",
    "\n",
    "\n",
    "data_test = data[0:1000,:].T #1000 image for testing, each col is an image \n",
    "m, n = data.shape\n",
    "\n",
    "Y_test = data_test[0,:] \n",
    "X_test = data_test[1:n,:]\n",
    "X_test = X_test / 255."
   ]
  },
  {
   "cell_type": "code",
   "execution_count": 4,
   "id": "067914d6",
   "metadata": {},
   "outputs": [
    {
     "data": {
      "text/plain": [
       "array([[0., 0., 0., ..., 0., 0., 0.],\n",
       "       [0., 0., 0., ..., 0., 0., 0.],\n",
       "       [0., 0., 0., ..., 0., 0., 0.],\n",
       "       ...,\n",
       "       [0., 0., 0., ..., 0., 0., 0.],\n",
       "       [0., 0., 0., ..., 0., 0., 0.],\n",
       "       [0., 0., 0., ..., 0., 0., 0.]])"
      ]
     },
     "execution_count": 4,
     "metadata": {},
     "output_type": "execute_result"
    }
   ],
   "source": [
    "X_test"
   ]
  },
  {
   "cell_type": "code",
   "execution_count": 5,
   "id": "4fa01d9d",
   "metadata": {},
   "outputs": [],
   "source": [
    "data_train = data[1000:m].T\n",
    "Y_train = data_train[0,:]\n",
    "X_train = data_train[1:n,:]\n",
    "X_train = X_train / 255."
   ]
  },
  {
   "cell_type": "code",
   "execution_count": null,
   "id": "8c941436",
   "metadata": {},
   "outputs": [
    {
     "name": "stdout",
     "output_type": "stream",
     "text": [
      "epoch:  0\n",
      "[9 0 0 ... 6 9 5] [4 7 4 ... 5 1 5]\n",
      "acc 0.08892682926829268\n",
      "----------------------------------------------\n",
      "epoch:  10\n",
      "[9 0 0 ... 6 9 9] [4 7 4 ... 5 1 5]\n",
      "acc 0.13097560975609757\n",
      "----------------------------------------------\n"
     ]
    }
   ],
   "source": [
    "model = [Layer_Dense(10,784,'ReLU'), Layer_Dense(30,10,'ReLU'), Layer_Dense(10, 30,'Softmax')]\n",
    "\n",
    "train = Train_Model(model,X_train, Y_train, epochs=200, learning_rate=0.1)\n",
    "train.Train()"
   ]
  },
  {
   "cell_type": "code",
   "execution_count": null,
   "id": "7d1223f7",
   "metadata": {},
   "outputs": [],
   "source": [
    "X_test[0:,1].shape"
   ]
  },
  {
   "cell_type": "code",
   "execution_count": null,
   "id": "c8175438",
   "metadata": {},
   "outputs": [],
   "source": [
    "example = X_test[0:,50].reshape(784,1)\n",
    "train.predict_probability(example)"
   ]
  },
  {
   "cell_type": "code",
   "execution_count": null,
   "id": "f4d4efc1",
   "metadata": {},
   "outputs": [],
   "source": [
    "train.predict_onehot(example)"
   ]
  },
  {
   "cell_type": "code",
   "execution_count": null,
   "id": "7ab0c117",
   "metadata": {},
   "outputs": [],
   "source": [
    "test_predictions = train.make_predictions(X_test)"
   ]
  },
  {
   "cell_type": "code",
   "execution_count": null,
   "id": "c57c3c7c",
   "metadata": {},
   "outputs": [],
   "source": [
    "train.get_accuracy(test_predictions, Y_test)"
   ]
  },
  {
   "cell_type": "code",
   "execution_count": null,
   "id": "af8438f0",
   "metadata": {},
   "outputs": [],
   "source": []
  }
 ],
 "metadata": {
  "kernelspec": {
   "display_name": "Python 3 (ipykernel)",
   "language": "python",
   "name": "python3"
  },
  "language_info": {
   "codemirror_mode": {
    "name": "ipython",
    "version": 3
   },
   "file_extension": ".py",
   "mimetype": "text/x-python",
   "name": "python",
   "nbconvert_exporter": "python",
   "pygments_lexer": "ipython3",
   "version": "3.8.10"
  }
 },
 "nbformat": 4,
 "nbformat_minor": 5
}
