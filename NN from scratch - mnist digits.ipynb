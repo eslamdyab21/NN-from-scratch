{
 "cells": [
  {
   "cell_type": "code",
   "execution_count": 1,
   "id": "2ca60b6f",
   "metadata": {},
   "outputs": [],
   "source": [
    "from matplotlib import pyplot as plt\n",
    "import pandas as pd\n",
    "import numpy as np \n",
    "from NN import Layer_Dense, Train_Model"
   ]
  },
  {
   "cell_type": "code",
   "execution_count": 2,
   "id": "df472a6d",
   "metadata": {},
   "outputs": [
    {
     "data": {
      "text/plain": [
       "array([[1, 0, 0, ..., 0, 0, 0],\n",
       "       [0, 0, 0, ..., 0, 0, 0],\n",
       "       [1, 0, 0, ..., 0, 0, 0],\n",
       "       ...,\n",
       "       [7, 0, 0, ..., 0, 0, 0],\n",
       "       [6, 0, 0, ..., 0, 0, 0],\n",
       "       [9, 0, 0, ..., 0, 0, 0]])"
      ]
     },
     "execution_count": 2,
     "metadata": {},
     "output_type": "execute_result"
    }
   ],
   "source": [
    "# eash row is an image\n",
    "# 42000 images each having 784 pixels (featres)\n",
    "# first column is the number vale, the rest 784 is the image pixels\n",
    "# (42000, 785)\n",
    "data = pd.read_csv('train.csv')\n",
    "data = np.array(data)\n",
    "data"
   ]
  },
  {
   "cell_type": "code",
   "execution_count": 3,
   "id": "69f9d18b",
   "metadata": {},
   "outputs": [],
   "source": [
    "np.random.shuffle(data) # shuffle before splitting into test and training sets\n",
    "\n",
    "\n",
    "data_test = data[0:1000,:].T #1000 image for testing, each col is an image \n",
    "m, n = data.shape\n",
    "\n",
    "Y_test = data_test[0,:] \n",
    "X_test = data_test[1:n,:]\n",
    "X_test = X_test / 255."
   ]
  },
  {
   "cell_type": "code",
   "execution_count": 4,
   "id": "b3b51e80",
   "metadata": {},
   "outputs": [
    {
     "data": {
      "text/plain": [
       "array([[0., 0., 0., ..., 0., 0., 0.],\n",
       "       [0., 0., 0., ..., 0., 0., 0.],\n",
       "       [0., 0., 0., ..., 0., 0., 0.],\n",
       "       ...,\n",
       "       [0., 0., 0., ..., 0., 0., 0.],\n",
       "       [0., 0., 0., ..., 0., 0., 0.],\n",
       "       [0., 0., 0., ..., 0., 0., 0.]])"
      ]
     },
     "execution_count": 4,
     "metadata": {},
     "output_type": "execute_result"
    }
   ],
   "source": [
    "X_test"
   ]
  },
  {
   "cell_type": "code",
   "execution_count": 5,
   "id": "f2fa31bb",
   "metadata": {},
   "outputs": [],
   "source": [
    "data_train = data[1000:m].T\n",
    "Y_train = data_train[0,:]\n",
    "X_train = data_train[1:n,:]\n",
    "X_train = X_train / 255."
   ]
  },
  {
   "cell_type": "code",
   "execution_count": 19,
   "id": "67c368cd",
   "metadata": {},
   "outputs": [
    {
     "name": "stdout",
     "output_type": "stream",
     "text": [
      "epoch:  0\n",
      "[1 1 1 ... 1 1 9] [3 2 7 ... 1 7 7]\n",
      "acc 0.1075609756097561\n",
      "----------------------------------------------\n",
      "epoch:  10\n",
      "[1 1 4 ... 1 1 9] [3 2 7 ... 1 7 7]\n",
      "acc 0.1536829268292683\n",
      "----------------------------------------------\n",
      "epoch:  20\n",
      "[1 1 4 ... 1 1 9] [3 2 7 ... 1 7 7]\n",
      "acc 0.193\n",
      "----------------------------------------------\n",
      "epoch:  30\n",
      "[1 1 4 ... 1 1 9] [3 2 7 ... 1 7 7]\n",
      "acc 0.24582926829268292\n",
      "----------------------------------------------\n",
      "epoch:  40\n",
      "[1 1 4 ... 1 1 4] [3 2 7 ... 1 7 7]\n",
      "acc 0.2955121951219512\n",
      "----------------------------------------------\n",
      "epoch:  50\n",
      "[1 1 7 ... 1 1 4] [3 2 7 ... 1 7 7]\n",
      "acc 0.36665853658536585\n",
      "----------------------------------------------\n",
      "epoch:  60\n",
      "[1 2 7 ... 1 1 4] [3 2 7 ... 1 7 7]\n",
      "acc 0.4316341463414634\n",
      "----------------------------------------------\n",
      "epoch:  70\n",
      "[1 2 7 ... 1 1 4] [3 2 7 ... 1 7 7]\n",
      "acc 0.5439756097560976\n",
      "----------------------------------------------\n",
      "epoch:  80\n",
      "[1 2 7 ... 1 1 4] [3 2 7 ... 1 7 7]\n",
      "acc 0.6274634146341463\n",
      "----------------------------------------------\n",
      "epoch:  90\n",
      "[3 2 7 ... 1 1 4] [3 2 7 ... 1 7 7]\n",
      "acc 0.6748048780487805\n",
      "----------------------------------------------\n",
      "epoch:  100\n",
      "[3 2 7 ... 1 1 4] [3 2 7 ... 1 7 7]\n",
      "acc 0.7055121951219512\n",
      "----------------------------------------------\n",
      "epoch:  110\n",
      "[3 2 7 ... 1 1 4] [3 2 7 ... 1 7 7]\n",
      "acc 0.7288780487804878\n",
      "----------------------------------------------\n",
      "epoch:  120\n",
      "[3 2 7 ... 1 1 4] [3 2 7 ... 1 7 7]\n",
      "acc 0.7466829268292683\n",
      "----------------------------------------------\n",
      "epoch:  130\n",
      "[3 2 7 ... 1 1 9] [3 2 7 ... 1 7 7]\n",
      "acc 0.7626829268292683\n",
      "----------------------------------------------\n",
      "epoch:  140\n",
      "[3 2 7 ... 1 1 7] [3 2 7 ... 1 7 7]\n",
      "acc 0.774390243902439\n",
      "----------------------------------------------\n",
      "epoch:  150\n",
      "[3 2 7 ... 1 1 7] [3 2 7 ... 1 7 7]\n",
      "acc 0.7849512195121952\n",
      "----------------------------------------------\n",
      "epoch:  160\n",
      "[3 2 7 ... 1 1 7] [3 2 7 ... 1 7 7]\n",
      "acc 0.7946585365853659\n",
      "----------------------------------------------\n",
      "epoch:  170\n",
      "[3 2 7 ... 1 1 7] [3 2 7 ... 1 7 7]\n",
      "acc 0.8030731707317074\n",
      "----------------------------------------------\n",
      "epoch:  180\n",
      "[3 2 7 ... 1 1 7] [3 2 7 ... 1 7 7]\n",
      "acc 0.8110487804878049\n",
      "----------------------------------------------\n",
      "epoch:  190\n",
      "[3 2 7 ... 1 1 7] [3 2 7 ... 1 7 7]\n",
      "acc 0.8189756097560975\n",
      "----------------------------------------------\n",
      "epoch:  200\n",
      "[3 2 7 ... 1 1 7] [3 2 7 ... 1 7 7]\n",
      "acc 0.8250243902439024\n",
      "----------------------------------------------\n",
      "epoch:  210\n",
      "[3 2 7 ... 1 1 7] [3 2 7 ... 1 7 7]\n",
      "acc 0.8305853658536585\n",
      "----------------------------------------------\n",
      "epoch:  220\n",
      "[3 2 7 ... 1 1 7] [3 2 7 ... 1 7 7]\n",
      "acc 0.8355365853658536\n",
      "----------------------------------------------\n",
      "epoch:  230\n",
      "[3 2 7 ... 1 1 7] [3 2 7 ... 1 7 7]\n",
      "acc 0.8396585365853658\n",
      "----------------------------------------------\n",
      "epoch:  240\n",
      "[3 2 7 ... 1 1 7] [3 2 7 ... 1 7 7]\n",
      "acc 0.8441951219512195\n",
      "----------------------------------------------\n",
      "epoch:  250\n",
      "[3 2 7 ... 1 1 7] [3 2 7 ... 1 7 7]\n",
      "acc 0.8477073170731707\n",
      "----------------------------------------------\n",
      "epoch:  260\n",
      "[3 2 7 ... 1 1 7] [3 2 7 ... 1 7 7]\n",
      "acc 0.8508536585365853\n",
      "----------------------------------------------\n",
      "epoch:  270\n",
      "[3 2 7 ... 1 1 7] [3 2 7 ... 1 7 7]\n",
      "acc 0.8536829268292683\n",
      "----------------------------------------------\n",
      "epoch:  280\n",
      "[3 2 7 ... 1 1 7] [3 2 7 ... 1 7 7]\n",
      "acc 0.8566829268292683\n",
      "----------------------------------------------\n",
      "epoch:  290\n",
      "[3 2 7 ... 1 1 7] [3 2 7 ... 1 7 7]\n",
      "acc 0.859\n",
      "----------------------------------------------\n",
      "epoch:  300\n",
      "[3 2 7 ... 1 1 7] [3 2 7 ... 1 7 7]\n",
      "acc 0.8609756097560975\n",
      "----------------------------------------------\n"
     ]
    }
   ],
   "source": [
    "model = [Layer_Dense(10,784,'ReLU'), Layer_Dense(30,10,'ReLU'), Layer_Dense(10, 30,'Softmax')]\n",
    "\n",
    "train = Train_Model(model,X_train, Y_train, epochs=301, learning_rate=0.1)\n",
    "train.Train()"
   ]
  },
  {
   "cell_type": "code",
   "execution_count": 7,
   "id": "7b554e70",
   "metadata": {},
   "outputs": [
    {
     "data": {
      "text/plain": [
       "(784,)"
      ]
     },
     "execution_count": 7,
     "metadata": {},
     "output_type": "execute_result"
    }
   ],
   "source": [
    "X_test[0:,1].shape"
   ]
  },
  {
   "cell_type": "code",
   "execution_count": 26,
   "id": "3d84efd9",
   "metadata": {},
   "outputs": [
    {
     "name": "stdout",
     "output_type": "stream",
     "text": [
      "Prediction:  [[6.01521986e-07]\n",
      " [1.57073175e-08]\n",
      " [1.01054224e-05]\n",
      " [1.92360484e-07]\n",
      " [9.19446416e-01]\n",
      " [7.23689916e-06]\n",
      " [1.29778233e-04]\n",
      " [4.10101189e-04]\n",
      " [1.26376516e-04]\n",
      " [7.98691762e-02]]\n"
     ]
    },
    {
     "data": {
      "image/png": "[encoded data removed]",
      "text/plain": [
       "<Figure size 640x480 with 1 Axes>"
      ]
     },
     "metadata": {},
     "output_type": "display_data"
    }
   ],
   "source": [
    "example = X_test[0:,2].reshape(784,1)\n",
    "train.predict_probability(example)"
   ]
  },
  {
   "cell_type": "code",
   "execution_count": 27,
   "id": "00ee24bc",
   "metadata": {},
   "outputs": [
    {
     "name": "stdout",
     "output_type": "stream",
     "text": [
      "Prediction:  [4]\n"
     ]
    },
    {
     "data": {
      "image/png": "[encoded data removed]",
      "text/plain": [
       "<Figure size 640x480 with 1 Axes>"
      ]
     },
     "metadata": {},
     "output_type": "display_data"
    }
   ],
   "source": [
    "train.predict_label(example)"
   ]
  },
  {
   "cell_type": "code",
   "execution_count": 22,
   "id": "85381cf0",
   "metadata": {},
   "outputs": [],
   "source": [
    "test_predictions = train.make_predictions(X_test)"
   ]
  },
  {
   "cell_type": "code",
   "execution_count": 23,
   "id": "c790c904",
   "metadata": {},
   "outputs": [
    {
     "name": "stdout",
     "output_type": "stream",
     "text": [
      "[5 6 4 6 7 8 0 0 7 5 3 6 3 1 1 6 9 3 9 6 8 2 3 5 0 2 0 5 1 6 2 3 6 1 0 2 1\n",
      " 7 8 9 9 2 9 1 7 0 7 6 9 8 3 1 6 7 6 1 0 7 9 8 1 1 5 4 6 7 4 2 6 6 6 2 3 3\n",
      " 0 8 4 4 5 1 1 3 5 0 9 8 5 9 7 4 7 5 2 5 0 8 9 4 7 3 2 6 9 3 7 8 3 7 6 3 1\n",
      " 0 1 2 0 1 1 2 2 3 8 5 3 4 6 6 2 2 5 7 1 1 9 6 5 8 7 0 3 4 3 0 4 0 3 8 7 9\n",
      " 1 8 2 1 5 5 6 7 6 0 9 1 2 8 3 3 8 7 3 1 2 6 2 9 5 7 7 4 0 3 5 8 7 2 4 5 6\n",
      " 2 6 3 1 9 4 6 2 2 5 4 2 4 9 4 6 7 6 7 9 4 4 9 9 7 4 7 6 8 3 2 4 5 6 9 2 4\n",
      " 0 1 0 3 7 1 3 6 3 8 7 2 7 4 4 4 6 5 8 4 5 0 9 5 7 0 3 0 1 5 8 3 8 3 7 4 6\n",
      " 3 3 0 3 6 0 2 3 5 3 7 3 5 0 8 9 0 8 5 1 8 1 7 8 0 4 9 7 6 8 3 8 7 0 4 5 2\n",
      " 4 3 1 7 2 9 0 2 5 0 8 6 3 3 3 3 1 1 1 2 6 0 5 3 1 7 8 3 4 4 2 8 2 9 9 1 3\n",
      " 7 6 7 3 8 0 6 0 8 3 8 7 5 4 1 5 8 0 3 0 3 6 1 6 8 9 4 8 1 0 4 1 2 0 9 0 3\n",
      " 7 4 4 1 1 2 3 1 1 0 0 7 3 1 8 0 9 9 4 6 0 0 6 9 2 5 9 4 4 5 0 6 3 3 2 3 8\n",
      " 1 8 0 7 6 4 8 5 6 9 6 9 9 6 4 7 0 2 1 2 9 6 6 7 5 4 5 7 3 2 7 1 9 4 7 2 9\n",
      " 2 9 4 1 5 5 7 6 9 6 5 7 1 7 7 6 4 7 1 7 1 7 8 8 0 3 4 4 0 6 7 4 8 8 4 1 1\n",
      " 1 6 1 2 6 9 6 4 2 8 5 8 6 6 9 9 3 7 6 4 5 8 1 7 1 4 5 9 2 2 0 6 4 2 6 1 6\n",
      " 5 1 4 4 2 5 7 3 9 1 0 8 1 2 5 9 4 7 2 7 6 2 2 0 6 6 0 5 7 5 0 2 2 1 0 2 4\n",
      " 4 1 8 3 5 2 6 7 7 9 6 6 5 8 2 2 4 6 4 6 1 4 5 9 1 2 1 9 6 7 1 4 4 3 1 7 9\n",
      " 0 9 1 6 4 0 3 9 8 2 0 7 2 4 3 2 2 1 9 6 5 9 5 4 4 1 5 5 7 8 1 9 6 4 0 4 4\n",
      " 2 5 7 5 9 6 7 9 9 8 8 2 7 9 7 0 2 1 9 4 2 1 6 2 8 0 3 8 2 7 2 5 9 1 5 8 4\n",
      " 9 9 0 6 8 4 7 6 6 6 8 8 3 4 6 5 2 5 2 9 3 1 5 9 0 2 2 1 7 8 7 6 5 3 1 9 6\n",
      " 4 6 6 6 3 6 0 7 5 9 7 7 0 5 3 5 9 0 6 1 8 0 7 3 7 1 8 6 6 1 6 2 9 2 7 8 2\n",
      " 3 5 1 8 2 5 4 3 8 8 0 2 8 1 3 3 4 7 9 8 6 6 5 7 3 5 8 0 5 7 3 8 3 4 0 3 2\n",
      " 4 4 0 8 2 0 5 7 1 5 0 9 5 1 3 3 5 6 3 1 9 1 0 1 7 0 0 3 6 9 8 5 6 7 7 4 4\n",
      " 5 6 4 7 7 0 3 8 3 0 4 3 2 5 5 3 2 8 7 8 5 1 9 5 6 8 0 1 8 1 8 2 9 3 7 6 6\n",
      " 8 0 0 9 8 6 9 5 4 3 2 1 1 9 8 9 9 2 5 6 0 1 4 2 3 2 5 2 9 1 7 7 2 5 0 5 0\n",
      " 3 7 6 3 2 6 0 4 8 4 5 9 5 0 1 3 5 0 6 1 8 2 7 3 1 9 3 0 1 1 9 8 8 3 5 4 4\n",
      " 8 1 9 9 3 7 4 1 4 6 7 0 0 3 5 5 8 6 1 0 7 1 8 4 5 7 5 3 9 7 1 1 7 6 8 8 6\n",
      " 3 8 9 0 2 2 9 2 2 1 7 3 7 9 7 9 9 6 0 4 7 3 9 9 7 7 3 0 2 8 4 7 9 6 1 1 3\n",
      " 9] [3 6 4 8 7 3 0 0 7 5 3 6 9 1 1 6 9 8 9 6 8 2 3 5 0 2 0 5 1 6 2 3 6 1 0 2 1\n",
      " 7 8 9 9 2 9 1 7 0 7 6 9 8 8 1 6 7 6 1 0 7 9 8 1 1 5 4 6 2 4 2 6 6 6 2 3 3\n",
      " 0 8 4 2 5 7 1 3 5 0 7 8 5 9 7 4 7 5 8 5 0 8 9 4 7 3 2 6 7 3 7 8 3 7 5 3 1\n",
      " 0 1 2 0 1 1 2 2 3 2 5 3 4 6 6 2 2 5 7 1 1 9 6 5 8 7 0 2 4 3 0 9 0 3 8 2 9\n",
      " 1 8 2 1 5 5 6 7 3 0 9 1 2 8 3 3 8 7 3 1 2 6 2 9 5 7 9 4 0 3 5 8 7 2 4 5 6\n",
      " 2 6 3 1 9 4 2 2 2 5 4 2 4 8 9 6 7 6 7 9 4 4 9 9 7 4 7 2 8 3 2 4 3 6 9 2 4\n",
      " 0 1 0 3 7 1 3 6 3 8 7 2 7 4 4 4 6 5 8 4 5 0 9 5 7 0 3 0 1 5 8 3 8 3 9 4 6\n",
      " 3 3 0 3 6 0 3 3 5 3 7 2 5 0 8 1 0 8 5 8 1 7 7 8 0 4 9 7 6 1 3 8 7 0 4 5 2\n",
      " 4 3 1 7 2 7 0 2 5 0 3 6 3 5 3 3 6 1 1 2 2 0 5 1 1 7 8 8 4 9 2 8 2 9 9 1 3\n",
      " 7 6 7 3 8 0 5 0 8 3 2 7 5 4 1 3 8 0 3 0 3 6 1 6 8 9 4 8 1 0 4 1 2 0 9 0 3\n",
      " 7 4 9 1 1 2 3 1 1 0 0 7 3 1 8 0 9 9 4 6 0 0 6 9 2 5 7 4 4 5 0 6 3 3 5 3 8\n",
      " 9 8 8 7 6 9 8 5 6 9 8 7 9 6 4 7 0 2 1 2 9 6 6 7 5 4 5 7 3 2 7 1 9 4 7 2 9\n",
      " 2 9 4 1 5 3 7 6 9 2 5 7 1 7 7 6 4 7 1 3 1 7 8 8 9 3 4 9 0 6 7 4 8 8 6 1 1\n",
      " 8 6 7 2 6 8 6 4 0 8 5 5 6 6 9 9 8 7 6 4 5 8 1 7 1 4 8 4 8 2 0 6 4 2 6 1 6\n",
      " 5 1 4 4 2 5 3 8 9 1 0 8 1 2 5 9 4 7 2 7 6 2 2 0 6 6 0 5 9 5 0 2 2 1 0 2 4\n",
      " 4 1 3 3 5 2 6 7 7 9 6 6 5 8 2 2 4 6 4 6 1 4 8 9 2 2 1 8 2 7 1 9 4 3 1 7 9\n",
      " 0 2 1 6 4 0 3 9 8 2 0 7 7 4 3 2 2 1 7 6 5 9 5 4 4 1 3 5 7 2 1 9 6 4 2 9 9\n",
      " 2 3 7 5 9 6 7 7 9 8 7 2 7 7 7 0 2 1 9 5 3 1 6 2 8 0 5 8 2 3 3 3 9 1 3 8 4\n",
      " 7 2 0 6 8 4 7 6 6 6 6 8 3 4 6 5 2 5 2 4 5 1 5 9 0 2 2 1 3 8 7 2 5 3 1 9 6\n",
      " 4 6 6 6 8 6 0 7 3 7 7 9 0 5 5 5 9 0 8 1 8 0 7 3 7 1 8 6 6 1 4 2 9 1 7 8 2\n",
      " 3 8 1 8 2 3 4 3 8 8 0 2 8 1 3 8 4 7 9 8 6 6 5 7 3 5 8 0 5 7 3 8 8 4 0 3 2\n",
      " 4 4 0 8 2 0 5 7 1 5 0 8 5 1 3 3 5 6 5 1 4 1 0 1 9 0 5 5 6 9 8 5 6 7 7 4 4\n",
      " 5 6 4 7 9 0 3 8 8 0 4 3 2 5 9 3 2 8 7 0 8 1 9 5 6 8 0 1 8 1 8 2 9 3 7 6 6\n",
      " 8 0 0 9 9 6 7 5 4 3 2 1 1 9 8 9 9 2 5 6 0 1 4 2 3 2 5 2 9 1 7 7 2 5 0 5 0\n",
      " 5 7 6 5 3 8 0 4 8 4 5 9 0 0 1 3 5 0 6 1 8 2 7 3 1 9 3 0 1 1 7 4 8 5 5 4 4\n",
      " 8 1 9 9 3 7 4 1 4 4 7 0 0 3 5 5 8 6 1 0 7 1 8 4 5 7 5 3 9 7 1 1 7 6 8 8 6\n",
      " 3 8 9 0 2 2 9 2 2 1 7 3 7 9 9 9 8 6 0 3 7 9 9 8 7 7 3 0 2 8 4 7 9 5 1 1 3\n",
      " 9]\n"
     ]
    },
    {
     "data": {
      "text/plain": [
       "0.859"
      ]
     },
     "execution_count": 23,
     "metadata": {},
     "output_type": "execute_result"
    }
   ],
   "source": [
    "train.get_accuracy(test_predictions, Y_test)"
   ]
  },
  {
   "cell_type": "code",
   "execution_count": null,
   "id": "9610f762",
   "metadata": {},
   "outputs": [],
   "source": []
  }
 ],
 "metadata": {
  "kernelspec": {
   "display_name": "Python 3 (ipykernel)",
   "language": "python",
   "name": "python3"
  },
  "language_info": {
   "codemirror_mode": {
    "name": "ipython",
    "version": 3
   },
   "file_extension": ".py",
   "mimetype": "text/x-python",
   "name": "python",
   "nbconvert_exporter": "python",
   "pygments_lexer": "ipython3",
   "version": "3.8.10"
  }
 },
 "nbformat": 4,
 "nbformat_minor": 5
}
