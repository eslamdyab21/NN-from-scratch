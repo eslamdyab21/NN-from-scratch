{
 "cells": [
  {
   "cell_type": "code",
   "execution_count": 92,
   "id": "2ca60b6f",
   "metadata": {},
   "outputs": [],
   "source": [
    "import matplotlib.pyplot as plt\n",
    "import pandas as pd\n",
    "import numpy as np \n",
    "from NN import Layer_Dense, Train_Model"
   ]
  },
  {
   "cell_type": "code",
   "execution_count": 109,
   "id": "09d1e2c2",
   "metadata": {},
   "outputs": [],
   "source": [
    "import tensorflow as tf\n",
    "tf.get_logger().setLevel('INFO')\n",
    "mnist = tf.keras.datasets.mnist\n",
    "(x_train, y_train),(x_test, y_test) = mnist.load_data()"
   ]
  },
  {
   "cell_type": "code",
   "execution_count": 110,
   "id": "4bfd4881",
   "metadata": {},
   "outputs": [
    {
     "data": {
      "text/plain": [
       "(60000, 28, 28)"
      ]
     },
     "execution_count": 110,
     "metadata": {},
     "output_type": "execute_result"
    }
   ],
   "source": [
    "x_train.shape"
   ]
  },
  {
   "cell_type": "code",
   "execution_count": 111,
   "id": "4cf56e10",
   "metadata": {},
   "outputs": [
    {
     "data": {
      "text/plain": [
       "(60000,)"
      ]
     },
     "execution_count": 111,
     "metadata": {},
     "output_type": "execute_result"
    }
   ],
   "source": [
    "y_train.shape"
   ]
  },
  {
   "cell_type": "code",
   "execution_count": 112,
   "id": "16932760",
   "metadata": {},
   "outputs": [
    {
     "data": {
      "text/plain": [
       "(28, 28)"
      ]
     },
     "execution_count": 112,
     "metadata": {},
     "output_type": "execute_result"
    }
   ],
   "source": [
    " x_train[0].shape"
   ]
  },
  {
   "cell_type": "code",
   "execution_count": 113,
   "id": "a6c2630f",
   "metadata": {},
   "outputs": [
    {
     "data": {
      "image/png": "[encoded data removed]",
      "text/plain": [
       "<Figure size 640x480 with 1 Axes>"
      ]
     },
     "metadata": {},
     "output_type": "display_data"
    }
   ],
   "source": [
    "plt.imshow(x_train[0]);"
   ]
  },
  {
   "cell_type": "code",
   "execution_count": 114,
   "id": "b1e0b5d6",
   "metadata": {},
   "outputs": [
    {
     "data": {
      "text/plain": [
       "(784,)"
      ]
     },
     "execution_count": 114,
     "metadata": {},
     "output_type": "execute_result"
    }
   ],
   "source": [
    "x_train[0].flatten().shape"
   ]
  },
  {
   "cell_type": "code",
   "execution_count": 115,
   "id": "006d7d92",
   "metadata": {},
   "outputs": [
    {
     "data": {
      "text/plain": [
       "(784, 60000)"
      ]
     },
     "execution_count": 115,
     "metadata": {},
     "output_type": "execute_result"
    }
   ],
   "source": [
    "X_train = []\n",
    "for image in x_train:\n",
    "    X_train.append(image.flatten())\n",
    "X_train = np.array(X_train).T\n",
    "X_train.shape"
   ]
  },
  {
   "cell_type": "code",
   "execution_count": 116,
   "id": "98e89156",
   "metadata": {},
   "outputs": [
    {
     "data": {
      "text/plain": [
       "(784, 10000)"
      ]
     },
     "execution_count": 116,
     "metadata": {},
     "output_type": "execute_result"
    }
   ],
   "source": [
    "X_test = []\n",
    "for image in x_test:\n",
    "    X_test.append(image.flatten())\n",
    "X_test = np.array(X_test).T\n",
    "X_test.shape"
   ]
  },
  {
   "cell_type": "code",
   "execution_count": 117,
   "id": "04ada7c1",
   "metadata": {},
   "outputs": [
    {
     "data": {
      "text/plain": [
       "(784, 60000)"
      ]
     },
     "execution_count": 117,
     "metadata": {},
     "output_type": "execute_result"
    }
   ],
   "source": [
    "X_train = X_train / 255.\n",
    "X_test = X_test / 255.\n",
    "X_train.shape"
   ]
  },
  {
   "cell_type": "code",
   "execution_count": 118,
   "id": "62a7ed9a",
   "metadata": {},
   "outputs": [
    {
     "data": {
      "text/plain": [
       "(60000,)"
      ]
     },
     "execution_count": 118,
     "metadata": {},
     "output_type": "execute_result"
    }
   ],
   "source": [
    "y_train.shape"
   ]
  },
  {
   "cell_type": "code",
   "execution_count": 125,
   "id": "67c368cd",
   "metadata": {},
   "outputs": [
    {
     "name": "stdout",
     "output_type": "stream",
     "text": [
      "epoch:  0\n",
      "[7 2 7 ... 2 2 3] [5 0 4 ... 5 6 8]\n",
      "acc 0.04543333333333333\n",
      "----------------------------------------------\n",
      "epoch:  10\n",
      "[7 2 2 ... 2 2 0] [5 0 4 ... 5 6 8]\n",
      "acc 0.08823333333333333\n",
      "----------------------------------------------\n",
      "epoch:  20\n",
      "[2 0 2 ... 0 0 0] [5 0 4 ... 5 6 8]\n",
      "acc 0.17758333333333334\n",
      "----------------------------------------------\n",
      "epoch:  30\n",
      "[2 0 2 ... 0 0 0] [5 0 4 ... 5 6 8]\n",
      "acc 0.21046666666666666\n",
      "----------------------------------------------\n",
      "epoch:  40\n",
      "[0 0 2 ... 0 0 6] [5 0 4 ... 5 6 8]\n",
      "acc 0.329\n",
      "----------------------------------------------\n",
      "epoch:  50\n",
      "[3 0 7 ... 0 0 6] [5 0 4 ... 5 6 8]\n",
      "acc 0.5041333333333333\n",
      "----------------------------------------------\n",
      "epoch:  60\n",
      "[3 0 7 ... 0 6 6] [5 0 4 ... 5 6 8]\n",
      "acc 0.5917166666666667\n",
      "----------------------------------------------\n",
      "epoch:  70\n",
      "[3 0 7 ... 5 6 6] [5 0 4 ... 5 6 8]\n",
      "acc 0.6494833333333333\n",
      "----------------------------------------------\n",
      "epoch:  80\n",
      "[3 0 9 ... 5 6 6] [5 0 4 ... 5 6 8]\n",
      "acc 0.6913166666666667\n",
      "----------------------------------------------\n",
      "epoch:  90\n",
      "[3 0 9 ... 5 6 6] [5 0 4 ... 5 6 8]\n",
      "acc 0.7226166666666667\n",
      "----------------------------------------------\n",
      "epoch:  100\n",
      "[3 0 9 ... 5 6 6] [5 0 4 ... 5 6 8]\n",
      "acc 0.7467166666666667\n",
      "----------------------------------------------\n",
      "epoch:  110\n",
      "[3 0 4 ... 5 6 6] [5 0 4 ... 5 6 8]\n",
      "acc 0.7668\n",
      "----------------------------------------------\n",
      "epoch:  120\n",
      "[3 0 4 ... 5 6 5] [5 0 4 ... 5 6 8]\n",
      "acc 0.7839833333333334\n",
      "----------------------------------------------\n",
      "epoch:  130\n",
      "[3 0 4 ... 5 6 5] [5 0 4 ... 5 6 8]\n",
      "acc 0.7981166666666667\n",
      "----------------------------------------------\n",
      "epoch:  140\n",
      "[3 0 4 ... 5 6 5] [5 0 4 ... 5 6 8]\n",
      "acc 0.8102333333333334\n",
      "----------------------------------------------\n",
      "epoch:  150\n",
      "[3 0 4 ... 5 6 5] [5 0 4 ... 5 6 8]\n",
      "acc 0.8206\n",
      "----------------------------------------------\n",
      "epoch:  160\n",
      "[3 0 4 ... 5 6 8] [5 0 4 ... 5 6 8]\n",
      "acc 0.81885\n",
      "----------------------------------------------\n",
      "epoch:  170\n",
      "[5 0 4 ... 5 6 8] [5 0 4 ... 5 6 8]\n",
      "acc 0.8188666666666666\n",
      "----------------------------------------------\n",
      "epoch:  180\n",
      "[3 0 4 ... 5 6 8] [5 0 4 ... 5 6 8]\n",
      "acc 0.8387666666666667\n",
      "----------------------------------------------\n",
      "epoch:  190\n",
      "[3 0 4 ... 5 6 8] [5 0 4 ... 5 6 8]\n",
      "acc 0.8485333333333334\n",
      "----------------------------------------------\n",
      "epoch:  200\n",
      "[3 0 4 ... 5 6 8] [5 0 4 ... 5 6 8]\n",
      "acc 0.85365\n",
      "----------------------------------------------\n"
     ]
    }
   ],
   "source": [
    "model = [Layer_Dense(10,784,'ReLU'), Layer_Dense(128,10,'ReLU'), Layer_Dense(10, 128,'Softmax')]\n",
    "\n",
    "train = Train_Model(model,X_train, y_train, epochs=201, learning_rate=0.1)\n",
    "train.Train()"
   ]
  },
  {
   "cell_type": "code",
   "execution_count": 126,
   "id": "7b554e70",
   "metadata": {},
   "outputs": [
    {
     "data": {
      "text/plain": [
       "(784,)"
      ]
     },
     "execution_count": 126,
     "metadata": {},
     "output_type": "execute_result"
    }
   ],
   "source": [
    "X_test[0:,1].shape"
   ]
  },
  {
   "cell_type": "code",
   "execution_count": 127,
   "id": "3d84efd9",
   "metadata": {},
   "outputs": [
    {
     "name": "stdout",
     "output_type": "stream",
     "text": [
      "Prediction:  [[1.71971666e-05]\n",
      " [9.68451213e-01]\n",
      " [4.08012357e-03]\n",
      " [6.76285261e-03]\n",
      " [3.91155005e-03]\n",
      " [2.25253965e-03]\n",
      " [2.25894856e-04]\n",
      " [6.73705319e-03]\n",
      " [3.59309350e-03]\n",
      " [3.96848203e-03]]\n"
     ]
    },
    {
     "data": {
      "image/png": "[encoded data removed]",
      "text/plain": [
       "<Figure size 640x480 with 1 Axes>"
      ]
     },
     "metadata": {},
     "output_type": "display_data"
    }
   ],
   "source": [
    "example = X_test[0:,2].reshape(784,1)\n",
    "train.predict_probability(example)"
   ]
  },
  {
   "cell_type": "code",
   "execution_count": 128,
   "id": "00ee24bc",
   "metadata": {},
   "outputs": [
    {
     "name": "stdout",
     "output_type": "stream",
     "text": [
      "Prediction:  [1]\n"
     ]
    },
    {
     "data": {
      "image/png": "[encoded data removed]",
      "text/plain": [
       "<Figure size 640x480 with 1 Axes>"
      ]
     },
     "metadata": {},
     "output_type": "display_data"
    }
   ],
   "source": [
    "train.predict_label(example)"
   ]
  },
  {
   "cell_type": "code",
   "execution_count": 129,
   "id": "85381cf0",
   "metadata": {},
   "outputs": [],
   "source": [
    "test_predictions = train.make_predictions(X_test)"
   ]
  },
  {
   "cell_type": "code",
   "execution_count": 130,
   "id": "c790c904",
   "metadata": {},
   "outputs": [
    {
     "name": "stdout",
     "output_type": "stream",
     "text": [
      "[7 2 1 ... 4 5 6] [7 2 1 ... 4 5 6]\n"
     ]
    },
    {
     "data": {
      "text/plain": [
       "0.8565"
      ]
     },
     "execution_count": 130,
     "metadata": {},
     "output_type": "execute_result"
    }
   ],
   "source": [
    "Y_test = y_test\n",
    "train.get_accuracy(test_predictions, Y_test)"
   ]
  },
  {
   "cell_type": "code",
   "execution_count": null,
   "id": "9610f762",
   "metadata": {},
   "outputs": [],
   "source": []
  }
 ],
 "metadata": {
  "kernelspec": {
   "display_name": "Python 3 (ipykernel)",
   "language": "python",
   "name": "python3"
  },
  "language_info": {
   "codemirror_mode": {
    "name": "ipython",
    "version": 3
   },
   "file_extension": ".py",
   "mimetype": "text/x-python",
   "name": "python",
   "nbconvert_exporter": "python",
   "pygments_lexer": "ipython3",
   "version": "3.8.10"
  }
 },
 "nbformat": 4,
 "nbformat_minor": 5
}
